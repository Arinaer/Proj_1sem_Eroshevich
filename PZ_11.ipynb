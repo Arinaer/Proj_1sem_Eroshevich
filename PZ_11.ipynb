{
  "nbformat": 4,
  "nbformat_minor": 0,
  "metadata": {
    "colab": {
      "name": "Untitled0.ipynb",
      "provenance": [],
      "authorship_tag": "ABX9TyO2/BqUs9o5S6tf5/u0jB3F",
      "include_colab_link": true
    },
    "kernelspec": {
      "name": "python3",
      "display_name": "Python 3"
    },
    "language_info": {
      "name": "python"
    }
  },
  "cells": [
    {
      "cell_type": "markdown",
      "metadata": {
        "id": "view-in-github",
        "colab_type": "text"
      },
      "source": [
        "<a href=\"https://colab.research.google.com/github/Arinaer/Proj_1sem_Eroshevich/blob/master/PZ_11.ipynb\" target=\"_parent\"><img src=\"https://colab.research.google.com/assets/colab-badge.svg\" alt=\"Open In Colab\"/></a>"
      ]
    },
    {
      "cell_type": "markdown",
      "source": [
        "PZ_3"
      ],
      "metadata": {
        "id": "2RrLbgYf7HL5"
      }
    },
    {
      "cell_type": "code",
      "execution_count": null,
      "metadata": {
        "id": "FWm2YkUF6yjg"
      },
      "outputs": [],
      "source": [
        "# Дано целое число. Если оно является положительным, то прибавить к нему 1:\n",
        "# если отрицательным, то вычесть из него 2: если нулевым, то заменить его на 10.\n",
        "# Вывести полученное число.\n",
        "\n",
        "n = input(\"Введите число: \")\n",
        "\n",
        "while type(n) != int:                        # Обработка исключений\n",
        "    try:\n",
        "        n = int(n)\n",
        "    except ValueError:\n",
        "        print(\"Ввели неправильно значение\")\n",
        "        n = input(\"Введите целое число: \")\n",
        "\n",
        "if n > 0:\n",
        "    print(n + 1)\n",
        "elif n < 0:\n",
        "    print(n - 2)\n",
        "elif n == 0:\n",
        "    print(10)"
      ]
    },
    {
      "cell_type": "markdown",
      "source": [
        "PZ_4"
      ],
      "metadata": {
        "id": "LcFwhkNJ73UB"
      }
    },
    {
      "cell_type": "code",
      "source": [
        "# Дано вещественное число A и целое число N (>0).\n",
        "# Используя один цикл, вывести все целые степени числа A от 1 до N.\n",
        "v = 0\n",
        "a = input(\"Введите число возводимое в степень: \")\n",
        "n = input(\"Введите число: \")\n",
        "\n",
        "while type(a) != float:                      # Обработка исключений\n",
        "    try:\n",
        "        a = float(a)\n",
        "    except ValueError:\n",
        "        print(\"Ввели неправильное значение\")\n",
        "        a = input(\"Введите еще раз: \")\n",
        "\n",
        "while type(n) != int:                      # Обработка исключений\n",
        "    try:\n",
        "        n = int(n)\n",
        "    except ValueError:\n",
        "        print(\"Ввели неправильное значение\")\n",
        "        n = input(\"Введите еще раз: \")\n",
        "\n",
        "while v <= n:\n",
        "    v += 1\n",
        "    print(a**v)"
      ],
      "metadata": {
        "id": "66tFhm9x745x"
      },
      "execution_count": null,
      "outputs": []
    },
    {
      "cell_type": "markdown",
      "source": [
        "PZ_5"
      ],
      "metadata": {
        "id": "W0NjE-Ft8A4f"
      }
    },
    {
      "cell_type": "code",
      "source": [
        "# С помощью функций получить вертикальную и горизонтальную линии. Линия проводится\n",
        "# многократной печатью символа. Заключить слово в рамку из полученных линий.\n",
        "\n",
        "\n",
        "def gorizontal_line(length):   # функция для вывода горизонтальной линии на экран.\n",
        "    while length > 0:\n",
        "        print('-', end='')\n",
        "        length -= 1\n",
        "    print()\n",
        "\n",
        "\n",
        "def vertical_line(height, length, text):   # функция для вывода вертикальной линии на экран.\n",
        "    mid = height // 2 + 1   # определение средней линии.\n",
        "    while height > 0:\n",
        "        if height != mid:   # если линия не средняя, то печатаем пустую строку.\n",
        "            print('|', ' '*(length-2), '|', sep='')\n",
        "        else:               # если линия средняя, то будет вызвана функция форматированной печати текста.\n",
        "            print('|', print_text(text, length-2), '|', sep='')\n",
        "\n",
        "        height -= 1\n",
        "\n",
        "\n",
        "def print_text(text, length):     # форматированная печать текста.\n",
        "    return \"{:^{i}}\".format(text, i=length)\n",
        "\n",
        "\n",
        "def main(height, length, text):   # запуск приложения.\n",
        "    gorizontal_line(length)\n",
        "    vertical_line(height, length, text)\n",
        "    gorizontal_line(length)\n",
        "\n",
        "\n",
        "main(5, 30, 'hello')"
      ],
      "metadata": {
        "id": "WG-Q7PDE8DFv"
      },
      "execution_count": null,
      "outputs": []
    }
  ]
}